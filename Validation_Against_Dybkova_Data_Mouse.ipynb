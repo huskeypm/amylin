{
 "metadata": {
  "name": "",
  "signature": "sha256:cda4c32f28f18103f6c003d63232fd421dfc7cbffea8e15228c3ff12760163b8"
 },
 "nbformat": 3,
 "nbformat_minor": 0,
 "worksheets": [
  {
   "cells": [
    {
     "cell_type": "markdown",
     "metadata": {},
     "source": [
      "## Loading auto reloader making figures inline"
     ]
    },
    {
     "cell_type": "code",
     "collapsed": false,
     "input": [
      "%load_ext autoreload\n",
      "%autoreload 2\n",
      "%pylab inline"
     ],
     "language": "python",
     "metadata": {},
     "outputs": [],
     "prompt_number": 1
    },
    {
     "cell_type": "markdown",
     "metadata": {},
     "source": [
      "## Importing dictionaries"
     ]
    },
    {
     "cell_type": "code",
     "collapsed": false,
     "input": [
      "import numpy as np\n",
      "import analyzeODE as ao\n",
      "import matplotlib.pyplot as plt\n",
      "cases = dict()\n",
      "class empty:pass"
     ],
     "language": "python",
     "metadata": {},
     "outputs": [],
     "prompt_number": 3
    },
    {
     "cell_type": "markdown",
     "metadata": {},
     "source": [
      "### Definitions to normalize data from literature compared to simulation"
     ]
    },
    {
     "cell_type": "code",
     "collapsed": false,
     "input": [
      "def shiftNnorm(ctl_0p5Hz):\n",
      "    minCtl_Cai_exp0p5Hz = np.amin(ctl_0p5Hz)\n",
      "    Ctl_Cai_shift0p5Hz =  ctl_0p5Hz -  minCtl_Cai_exp0p5Hz\n",
      "    maxCtl_Cai_exp0p5Hz = np.amax(Ctl_Cai_shift0p5Hz)\n",
      "    Ctl_Cai_shift0p5Hz/=maxCtl_Cai_exp0p5Hz\n",
      "    \n",
      "    return Ctl_Cai_shift0p5Hz\n",
      "\n",
      "def normShizzle(case0p5Hz,tRange = [int(290e3),int(291e3)]):\n",
      "    s = case0p5Hz.data['s']\n",
      "    s_idx = case0p5Hz.data['s_idx']\n",
      "    idx = s_idx.index(\"Cai\")\n",
      "    t = case0p5Hz.data['t']\n",
      "\n",
      "    cais = s[tRange[0]:tRange[1],idx]\n",
      "    min0p5Hz_Cai = np.amin(cais)\n",
      "    #print minWT0p5Hz_Cai\n",
      "    max0p5Hz_Cai = np.amax(cais)\n",
      "    max0p5Hz_Caix = np.argmax(cais)\n",
      "    print max0p5Hz_Caix\n",
      "\n",
      "    Comp_Cai_shift0p5Hz = cais - min0p5Hz_Cai\n",
      "    #print Comp_Cai_shift\n",
      "    maxComp_Cai_shift0p5Hz = np.amax(Comp_Cai_shift0p5Hz)\n",
      "    Comp_Cai_shift0p5Hz/=maxComp_Cai_shift0p5Hz\n",
      "    #print Comp_Cai_shift\n",
      "\n",
      "    ms_to_s = 1e-3\n",
      "    time=t[tRange[0]:tRange[1]]*ms_to_s\n",
      "    \n",
      "    return time, Comp_Cai_shift0p5Hz"
     ],
     "language": "python",
     "metadata": {},
     "outputs": [],
     "prompt_number": 9
    },
    {
     "cell_type": "markdown",
     "metadata": {},
     "source": [
      "#### Give the path of where your input files are and where you want output png files to go."
     ]
    },
    {
     "cell_type": "code",
     "collapsed": false,
     "input": [
      "\n",
      "root = \"/net/share/bdst227/Despa/Despa_Simulations_Data/rat_Simulations/\"  # input files path\n",
      "rootOutput = \"/net/share/shared/papers/despa/Brad/\"                        # output files path\n"
     ],
     "language": "python",
     "metadata": {},
     "outputs": [],
     "prompt_number": 4
    },
    {
     "cell_type": "code",
     "collapsed": false,
     "input": [
      "\n",
      "refPx = [38,77] # reference pixel numbers\n",
      "refSecNum = [1.0,400.0] # reference values corresponding to pixel numbers\n"
     ],
     "language": "python",
     "metadata": {},
     "outputs": [],
     "prompt_number": 5
    },
    {
     "cell_type": "code",
     "collapsed": false,
     "input": [
      "data = np.loadtxt(\"/despaJobs/Dybkova_data.txt\",skiprows=3)\n",
      "\n",
      "Pxl_time = data[:,0]\n",
      "Pxl_Con = 288 - data[:,1]\n",
      "\n",
      "print Pxl_time\n",
      "print Pxl_Con\n",
      "\n",
      "time_exp = (refSecNum[0]/refPx[0]) * Pxl_time  \n",
      "concentration = (refSecNum[1]/refPx[1]) * Pxl_Con\n",
      "\n",
      "print time_exp\n",
      "print concentration\n"
     ],
     "language": "python",
     "metadata": {},
     "outputs": []
    },
    {
     "cell_type": "code",
     "collapsed": false,
     "input": [
      "\n",
      "doReload=True\n",
      "\n",
      "if doReload:\n",
      "\n",
      "    caseBase1p0HzMouseSERCA50p00 = empty()\n",
      "    cases[\"Basefreq1p0MouseSERCA50p00\"] = caseBase1p0HzMouseSERCA50p00\n",
      "    caseBase1p0HzMouseSERCA50p00.caseName = \"mouse_BASELINE_freq1p0Hz_cat\" \n",
      "    caseBase1p0HzMouseSERCA50p00.name = root+caseBase1p0HzMouseSERCA50p00.caseName+\".pkl\"\n",
      "\n",
      "ao.LoadPickles(cases,noOverwrite=True)"
     ],
     "language": "python",
     "metadata": {},
     "outputs": []
    },
    {
     "cell_type": "code",
     "collapsed": false,
     "input": [
      "\n",
      "Ctl_Cai_shift = shiftNnorm(concentration)\n",
      "\n",
      "case1p0HzSERCA50p00 = cases[\"Basefreq1p0MouseSERCA50p00\"]\n",
      "timeSERCA50p00, Comp_Cai_shift1p0HzSERCA50p00 = normShizzle(case1p0HzSERCA50p00)\n",
      "\n",
      "plt.plot(timeSERCA50p00-290.1,Comp_Cai_shift1p0HzSERCA50p00,\"k\",label=\"Control (mouse)\")\n",
      "\n",
      "plt.plot(time_exp-1.98,Ctl_Cai_shift,'--om',label=\"Dybkova\")\n",
      "\n",
      "plt.ylim(-0.1,1.1)\n",
      "\n",
      "plt.ylabel(\"Normalized $\\mathregular{[Ca]_i}$\",fontsize=16,weight=\"bold\")\n",
      "plt.xlabel(\"Time [S]\",fontsize=16,weight=\"bold\")\n",
      "plt.title(\"Comparing mouse \\n model to Dybkova data\", fontsize=16,weight=\"bold\")\n",
      "\n",
      "art = []\n",
      "lgd = plt.legend(bbox_to_anchor=(1.42,1.03))\n",
      "art.append(lgd)\n",
      "\n",
      "outFile=rootOutput+\"Dybkova_mouse_comparison.png\"\n",
      "plt.tight_layout()\n",
      "plt.gcf().savefig(outFile,additional_artists=art,bbox_inches='tight',dpi=600)"
     ],
     "language": "python",
     "metadata": {},
     "outputs": [
      {
       "output_type": "stream",
       "stream": "stdout",
       "text": [
        "171\n",
        "168\n"
       ]
      },
      {
       "metadata": {},
       "output_type": "display_data",
       "png": "[encoded data removed]",
       "text": [
        "<matplotlib.figure.Figure at 0x7fe82799e110>"
       ]
      }
     ],
     "prompt_number": 14
    },
    {
     "cell_type": "code",
     "collapsed": false,
     "input": [],
     "language": "python",
     "metadata": {},
     "outputs": []
    }
   ],
   "metadata": {}
  }
 ]
}