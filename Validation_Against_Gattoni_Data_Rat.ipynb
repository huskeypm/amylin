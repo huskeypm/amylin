{
 "metadata": {
  "name": "",
  "signature": "sha256:d9bd50f3a4663f23aaa170f2cb242a651b3976abfc083c2f2850abe7d38a78d1"
 },
 "nbformat": 3,
 "nbformat_minor": 0,
 "worksheets": [
  {
   "cells": [
    {
     "cell_type": "markdown",
     "metadata": {},
     "source": [
      "## Loading auto reloader making figures inline"
     ]
    },
    {
     "cell_type": "code",
     "collapsed": false,
     "input": [
      "%load_ext autoreload\n",
      "%autoreload 2\n",
      "%pylab inline"
     ],
     "language": "python",
     "metadata": {},
     "outputs": [
      {
       "output_type": "stream",
       "stream": "stdout",
       "text": [
        "Populating the interactive namespace from numpy and matplotlib\n"
       ]
      }
     ],
     "prompt_number": 1
    },
    {
     "cell_type": "markdown",
     "metadata": {},
     "source": [
      "## Importing dictionaries"
     ]
    },
    {
     "cell_type": "code",
     "collapsed": false,
     "input": [
      "import numpy as np\n",
      "import analyzeODE as ao\n",
      "import matplotlib.pyplot as plt\n",
      "import taufitting as tf\n",
      "cases = dict()\n",
      "class empty:pass"
     ],
     "language": "python",
     "metadata": {},
     "outputs": [],
     "prompt_number": 3
    },
    {
     "cell_type": "markdown",
     "metadata": {},
     "source": [
      "### Definitions to normalize data from literature compared to simulation"
     ]
    },
    {
     "cell_type": "code",
     "collapsed": false,
     "input": [
      "def shiftNnorm(ctl_0p5Hz):\n",
      "    minCtl_Cai_exp0p5Hz = np.amin(ctl_0p5Hz)\n",
      "    Ctl_Cai_shift0p5Hz =  ctl_0p5Hz -  minCtl_Cai_exp0p5Hz\n",
      "    maxCtl_Cai_exp0p5Hz = np.amax(Ctl_Cai_shift0p5Hz)\n",
      "    Ctl_Cai_shift0p5Hz/=maxCtl_Cai_exp0p5Hz\n",
      "    \n",
      "    return Ctl_Cai_shift0p5Hz\n",
      "\n",
      "def normShizzle(case0p5Hz,tRange = [int(290e3),int(291e3)]):\n",
      "    s = case0p5Hz.data['s']\n",
      "    s_idx = case0p5Hz.data['s_idx']\n",
      "    idx = s_idx.index(\"Cai\")\n",
      "    t = case0p5Hz.data['t']\n",
      "\n",
      "    cais = s[tRange[0]:tRange[1],idx]\n",
      "    min0p5Hz_Cai = np.amin(cais)\n",
      "    #print minWT0p5Hz_Cai\n",
      "    max0p5Hz_Cai = np.amax(cais)\n",
      "    max0p5Hz_Caix = np.argmax(cais)\n",
      "    print max0p5Hz_Caix\n",
      "\n",
      "    Comp_Cai_shift0p5Hz = cais - min0p5Hz_Cai\n",
      "    #print Comp_Cai_shift\n",
      "    maxComp_Cai_shift0p5Hz = np.amax(Comp_Cai_shift0p5Hz)\n",
      "    Comp_Cai_shift0p5Hz/=maxComp_Cai_shift0p5Hz\n",
      "    #print Comp_Cai_shift\n",
      "\n",
      "    ms_to_s = 1e-3\n",
      "    time=t[tRange[0]:tRange[1]]*ms_to_s\n",
      "    \n",
      "    return time, Comp_Cai_shift0p5Hz"
     ],
     "language": "python",
     "metadata": {},
     "outputs": [],
     "prompt_number": 12
    },
    {
     "cell_type": "markdown",
     "metadata": {},
     "source": [
      "#### Give the path of where your input files are and where you want output png files to go."
     ]
    },
    {
     "cell_type": "code",
     "collapsed": false,
     "input": [
      "\n",
      "root = \"/net/share/bdst227/Despa/Despa_Simulations_Data/rat_Simulations/\"  # input files path\n",
      "rootOutput = \"/net/share/shared/papers/despa/Brad/\"                        # output files path\n"
     ],
     "language": "python",
     "metadata": {},
     "outputs": [],
     "prompt_number": 4
    },
    {
     "cell_type": "code",
     "collapsed": false,
     "input": [
      "refPx = [468,403] # reference pixel numbers\n",
      "refSecNum = [1.0,1.5] # reference values corresponding to pixel numbers\n"
     ],
     "language": "python",
     "metadata": {},
     "outputs": [],
     "prompt_number": 5
    },
    {
     "cell_type": "code",
     "collapsed": false,
     "input": [
      "data = np.loadtxt(\"/despaJobs/Gattoni_data.txt\",skiprows=3)\n",
      "\n",
      "Pxl_time = data[:,0]\n",
      "Pxl_Con = 470 - data[:,1]\n",
      "\n",
      "print Pxl_time\n",
      "print Pxl_Con\n",
      "\n",
      "time_exp = (refSecNum[0]/refPx[0]) * Pxl_time  \n",
      "concentration = (refSecNum[1]/refPx[1]) * Pxl_Con\n",
      "\n",
      "print time_exp\n",
      "print concentration\n"
     ],
     "language": "python",
     "metadata": {},
     "outputs": [
      {
       "output_type": "stream",
       "stream": "stdout",
       "text": [
        "[  54.   75.  104.  105.  107.  109.  114.  124.  132.  138.  150.  167.\n",
        "  195.  232.  272.  318.  346.  390.  428.  472.  520.]\n",
        "[  77.   77.   77.  232.  342.  394.  422.  388.  350.  305.  235.  183.\n",
        "  126.  100.   88.   79.   77.   77.   77.   77.   77.]\n",
        "[ 0.11538462  0.16025641  0.22222222  0.22435897  0.22863248  0.23290598\n",
        "  0.24358974  0.26495726  0.28205128  0.29487179  0.32051282  0.35683761\n",
        "  0.41666667  0.4957265   0.58119658  0.67948718  0.73931624  0.83333333\n",
        "  0.91452991  1.00854701  1.11111111]\n",
        "[ 0.2866005   0.2866005   0.2866005   0.86352357  1.27295285  1.46650124\n",
        "  1.5707196   1.44416873  1.30272953  1.13523573  0.87468983  0.68114144\n",
        "  0.46898263  0.37220844  0.32754342  0.29404467  0.2866005   0.2866005\n",
        "  0.2866005   0.2866005   0.2866005 ]\n"
       ]
      }
     ],
     "prompt_number": 6
    },
    {
     "cell_type": "markdown",
     "metadata": {},
     "source": [
      "#### Loading simulated data"
     ]
    },
    {
     "cell_type": "code",
     "collapsed": false,
     "input": [
      "\n",
      "doReload=True\n",
      "\n",
      "if doReload:\n",
      "    \n",
      "    caseBase1p0HzRat = empty()\n",
      "    cases[\"Basefreq1p0Rat\"] = caseBase1p0HzRat\n",
      "    caseBase1p0HzRat.caseName = \"rat_BASELINE_freq1p0Hz\" \n",
      "    caseBase1p0HzRat.name = root+caseBase1p0HzRat.caseName+\".pkl\"\n",
      "\n",
      "    caseAMY1p0HzRat = empty()\n",
      "    cases[\"AMYfreq1p0Rat\"] = caseAMY1p0HzRat\n",
      "    caseAMY1p0HzRat.caseName = \"rat_AMY_freq1p0Hz\" \n",
      "    caseAMY1p0HzRat.name = root+caseAMY1p0HzRat.caseName+\".pkl\"\n",
      "    \n",
      "    caseHIP1p0HzRat = empty()\n",
      "    cases[\"HIPfreq1p0Rat\"] = caseHIP1p0HzRat\n",
      "    caseHIP1p0HzRat.caseName = \"rat_HIP_freq1p0Hz\" \n",
      "    caseHIP1p0HzRat.name = root+caseHIP1p0HzRat.caseName+\".pkl\"\n",
      "    \n",
      "ao.LoadPickles(cases,noOverwrite=True)"
     ],
     "language": "python",
     "metadata": {},
     "outputs": []
    },
    {
     "cell_type": "code",
     "collapsed": false,
     "input": [
      "\n",
      "Ctl_Cai_shift = shiftNnorm(concentration)\n",
      "\n",
      "caseBase1p0Hz = cases[\"Basefreq1p0Rat\"]\n",
      "timeBase1p0Hz, Comp_Cai_shiftBase1p0Hz = normShizzle(caseBase1p0Hz)\n",
      "\n",
      "caseAMY1p0Hz = cases[\"AMYfreq1p0Rat\"]\n",
      "timeAMY1p0Hz, Comp_Cai_shiftAMY1p0Hz = normShizzle(caseAMY1p0Hz)\n",
      "\n",
      "caseHIP1p0Hz = cases[\"HIPfreq1p0Rat\"]\n",
      "timeHIP1p0Hz, Comp_Cai_shiftHIP1p0Hz = normShizzle(caseHIP1p0Hz)\n",
      "\n",
      "plt.plot(timeBase1p0Hz-290.1,Comp_Cai_shiftBase1p0Hz,\"k\",label=\"Control (Rat)\")\n",
      "plt.plot(timeAMY1p0Hz-290.1,Comp_Cai_shiftAMY1p0Hz,\"b\",label=\"Amy\")\n",
      "plt.plot(timeHIP1p0Hz-290.1,Comp_Cai_shiftHIP1p0Hz,\"r\",label=\"HIP\")\n",
      "\n",
      "plt.plot(time_exp-0.21,Ctl_Cai_shift,'--om',label=\"Gattoni\")\n",
      "\n",
      "plt.xlim(-0.1,0.6)\n",
      "plt.ylim(-0.1,1.1)\n",
      "\n",
      "plt.ylabel(\"Normalized $\\mathregular{[Ca]_i}$\",fontsize=16,weight=\"bold\")\n",
      "plt.xlabel(\"Time [S]\",fontsize=16,weight=\"bold\")\n",
      "plt.title(\"Comparing rat \\n model to Gattoni data\", fontsize=16,weight=\"bold\")\n",
      "\n",
      "art = []\n",
      "lgd = plt.legend(bbox_to_anchor=(1.36,1.03))\n",
      "art.append(lgd)\n",
      "\n",
      "outFile=rootOutput+\"Gattoni_rat_comparison.png\"\n",
      "plt.tight_layout()\n",
      "plt.gcf().savefig(outFile,additional_artists=art,bbox_inches='tight',dpi=600)"
     ],
     "language": "python",
     "metadata": {},
     "outputs": [
      {
       "output_type": "stream",
       "stream": "stdout",
       "text": [
        "149\n",
        "159\n",
        "165\n"
       ]
      },
      {
       "metadata": {},
       "output_type": "display_data",
       "png": "[encoded data removed]",
       "text": [
        "<matplotlib.figure.Figure at 0x7f9033f89450>"
       ]
      }
     ],
     "prompt_number": 13
    },
    {
     "cell_type": "code",
     "collapsed": false,
     "input": [],
     "language": "python",
     "metadata": {},
     "outputs": []
    }
   ],
   "metadata": {}
  }
 ]
}